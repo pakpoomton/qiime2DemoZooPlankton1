{
 "cells": [
  {
   "cell_type": "markdown",
   "metadata": {},
   "source": [
    "**Qiime2 codes for processing zooplankton data from HN00126595_report**\n",
    "\n",
    "Script here is based on Kristin Yoshimura's QIIME2 tutorial \n",
    "https://www.youtube.com/watch?v=cEbYCzTzQr8 and\n",
    "https://docs.qiime2.org/2020.6/ and\n",
    "https://chmi-sops.github.io/mydoc_qiime2.html"
   ]
  },
  {
   "cell_type": "markdown",
   "metadata": {},
   "source": [
    "## 1. Prepare all requires input files for the analysis"
   ]
  },
  {
   "cell_type": "markdown",
   "metadata": {},
   "source": [
    "#### 1.1 Raw sequence data files (.fastq.gz)\n",
    "We first prepare data in 'seq-raw-data/' folder under this 'qiime2-zooplankton1/' folder\n",
    "\n",
    "There are 9 files in total for this analysis. All musted be named according to QIIME2 casava 1.8 demultiplex (paired-end) format. These files were taken from 'HN00126595_report' Macrogen report and renamed according to \n",
    "qiime2 format. \n",
    "\n",
    "For example,\n",
    "G1_1_L001_R1_001.fastq.gz\n",
    "G1_1_L001_R2_001.fastq.gz\n",
    "G2_2_L001_R1_001.fastq.gz\n",
    "G2_2_L001_R2_001.fastq.gz\n",
    "\n",
    "Execute 'tools import' to generate 'demux-paired-end.qza'\n",
    "\n",
    "Note that somehow, to use QIIME2 casava 1.8 demultiplex format on Macrogen raw data, the last term for all sequence files have to be 001. \n",
    "\n",
    "#### 1.2 Metadata file (.tsv)\n",
    "Metdata file 'zooplankton1MetaData.tsv' is put in our root 'qiime2-zooplankton1/' folder\n",
    "This file has info about(dummy) barcode and sample-source: Chlorella, Moina or Branchinella (Thai fairy shrimp)\n",
    "\n",
    "#### 1.3 Pre-trained (.qza)\n",
    "Here, we will use pre-trained classifier for taxonomic assignment \n",
    "We use the following classifer for now from Green Gene\n",
    "\n",
    "'gg-13-8-99-nb-classifier.qza'"
   ]
  },
  {
   "cell_type": "markdown",
   "metadata": {},
   "source": [
    "## 2. Import raw sequence data into QIIME2"
   ]
  },
  {
   "cell_type": "code",
   "execution_count": 14,
   "metadata": {},
   "outputs": [
    {
     "name": "stdout",
     "output_type": "stream",
     "text": [
      "\u001b[32mImported seq-raw-data as CasavaOneEightSingleLanePerSampleDirFmt to demux-paired-end.qza\u001b[0m\r\n"
     ]
    }
   ],
   "source": [
    "!qiime tools import \\\n",
    "  --type 'SampleData[PairedEndSequencesWithQuality]' \\\n",
    "  --input-path seq-raw-data \\\n",
    "  --input-format CasavaOneEightSingleLanePerSampleDirFmt \\\n",
    "  --output-path demux-paired-end.qza"
   ]
  },
  {
   "cell_type": "markdown",
   "metadata": {},
   "source": [
    "**Now,let's visualizing demux-paired-end.qza using 'demux summarize' and 'tools view'**"
   ]
  },
  {
   "cell_type": "code",
   "execution_count": null,
   "metadata": {},
   "outputs": [],
   "source": [
    "!qiime demux summarize \\\n",
    "--i-data demux-paired-end.qza \\\n",
    "--o-visualization demux-paired-end"
   ]
  },
  {
   "cell_type": "code",
   "execution_count": 4,
   "metadata": {},
   "outputs": [
    {
     "name": "stdout",
     "output_type": "stream",
     "text": [
      "Press the 'q' key, Control-C, or Control-D to quit. This view may no longer be accessible or work correctly after quitting.\n",
      "Press the 'q' key, Control-C, or Control-D to quit. This view may no longer be accessible or work correctly after quitting."
     ]
    }
   ],
   "source": [
    "!qiime tools view demux-paired-end.qzv"
   ]
  },
  {
   "cell_type": "markdown",
   "metadata": {},
   "source": [
    "## 3. QC and Denoising data .. (and merge pair-ended seq together)"
   ]
  },
  {
   "cell_type": "markdown",
   "metadata": {},
   "source": [
    "QC and denoising data in 'demux-paired-end.qza'  **this step take about 15 minutes**\n",
    "\n",
    "After this step, we will have 3 output files in our 'qiime2-zooplankton1/' folder\n",
    "1. table.qza -- feature table.. showing how many different otus we have in each sample\n",
    "2. rep-seqs.qza -- representative sequence from each otu\n",
    "3. denoising-stats -- info on the number of read count we have on each stage of denoising and pairing\n",
    "\n",
    "Note that deoising could fail if: \n",
    "a) we truncated sequence too much to the point that pair-end reads cannot be merged --> need to reduce truncation\n",
    "b) we did not allocate enough RAM --> need to close virsualbox with saving, re-open and go to setting > system to allocate more memory"
   ]
  },
  {
   "cell_type": "code",
   "execution_count": 1,
   "metadata": {},
   "outputs": [
    {
     "name": "stdout",
     "output_type": "stream",
     "text": [
      "Running external command line application(s). This may print messages to stdout and/or stderr.\n",
      "The command(s) being run are below. These commands cannot be manually re-run as they will depend on temporary files that no longer exist.\n",
      "\n",
      "Command: run_dada_paired.R /tmp/tmphqg4nr3f/forward /tmp/tmphqg4nr3f/reverse /tmp/tmphqg4nr3f/output.tsv.biom /tmp/tmphqg4nr3f/track.tsv /tmp/tmphqg4nr3f/filt_f /tmp/tmphqg4nr3f/filt_r 290 260 10 10 2.0 2.0 2 independent consensus 1.0 1 1000000\n",
      "\n",
      "R version 3.5.1 (2018-07-02) \n",
      "Loading required package: Rcpp\n",
      "DADA2: 1.10.0 / Rcpp: 1.0.4.6 / RcppParallel: 5.0.0 \n",
      "1) Filtering .........\n",
      "2) Learning Error Rates\n",
      "90254920 total bases in 322339 reads from 9 samples will be used for learning the error rates.\n",
      "80584750 total bases in 322339 reads from 9 samples will be used for learning the error rates.\n",
      "3) Denoise samples .........\n",
      ".........\n",
      "4) Remove chimeras (method = consensus)\n",
      "6) Write output\n",
      "\u001b[32mSaved FeatureTable[Frequency] to: table.qza\u001b[0m\n",
      "\u001b[32mSaved FeatureData[Sequence] to: rep-seqs.qza\u001b[0m\n",
      "\u001b[32mSaved SampleData[DADA2Stats] to: denoising-stats.qza\u001b[0m\n"
     ]
    }
   ],
   "source": [
    "!qiime dada2 denoise-paired \\\n",
    "--i-demultiplexed-seqs demux-paired-end.qza \\\n",
    "--p-trim-left-f 10 \\\n",
    "--p-trim-left-r 10 \\\n",
    "--p-trunc-len-f 290 \\\n",
    "--p-trunc-len-r 260 \\\n",
    "--o-table table \\\n",
    "--o-representative-sequences rep-seqs \\\n",
    "--o-denoising-stats denoising-stats \\\n",
    "--verbose"
   ]
  },
  {
   "cell_type": "markdown",
   "metadata": {},
   "source": [
    "Now, let's look at our denoising statistics"
   ]
  },
  {
   "cell_type": "code",
   "execution_count": 2,
   "metadata": {},
   "outputs": [
    {
     "name": "stdout",
     "output_type": "stream",
     "text": [
      "\u001b[32mSaved Visualization to: denoising-stats.qzv\u001b[0m\r\n"
     ]
    }
   ],
   "source": [
    "# make .qzv for denoising stats\n",
    "!qiime metadata tabulate \\\n",
    "--m-input-file denoising-stats.qza \\\n",
    "--o-visualization denoising-stats"
   ]
  },
  {
   "cell_type": "code",
   "execution_count": 8,
   "metadata": {},
   "outputs": [
    {
     "name": "stdout",
     "output_type": "stream",
     "text": [
      "Press the 'q' key, Control-C, or Control-D to quit. This view may no longer be accessible or work correctly after quitting.\n",
      "Press the 'q' key, Control-C, or Control-D to quit. This view may no longer be accessible or work correctly after quitting."
     ]
    }
   ],
   "source": [
    "# visualizing .qzv file\n",
    "!qiime tools view denoising-stats.qzv"
   ]
  },
  {
   "cell_type": "markdown",
   "metadata": {},
   "source": [
    "## 4. Build a phylogenetic tree"
   ]
  },
  {
   "cell_type": "markdown",
   "metadata": {},
   "source": [
    "Here, we use representative sequence in 'rep-seqs.qza' to build a phylogenetic tree.\n",
    "rep-seqs.qza -> aligned-rep-seqs.qz -> masked-aligned-rep-seqs.qza -> unrooted-tree.qza -> rooted-tree.qza"
   ]
  },
  {
   "cell_type": "code",
   "execution_count": 4,
   "metadata": {},
   "outputs": [
    {
     "name": "stdout",
     "output_type": "stream",
     "text": [
      "\u001b[32mSaved FeatureData[AlignedSequence] to: aligned-rep-seqs.qza\u001b[0m\r\n"
     ]
    }
   ],
   "source": [
    "# 4.1 sequence alignment (rep-seqs.qza -> aligned-rep-seqs.qza)\n",
    "!qiime alignment mafft \\\n",
    "--i-sequences rep-seqs.qza \\\n",
    "--o-alignment aligned-rep-seqs"
   ]
  },
  {
   "cell_type": "code",
   "execution_count": 5,
   "metadata": {},
   "outputs": [
    {
     "name": "stdout",
     "output_type": "stream",
     "text": [
      "\u001b[32mSaved FeatureData[AlignedSequence] to: masked-aligned-rep-seqs.qza\u001b[0m\r\n"
     ]
    }
   ],
   "source": [
    "# 4.2 mask out non-informative regions of the sequence (aligned-rep-seqs.qza -> masked-aligned-rep-seqs.qza)\n",
    "!qiime alignment mask \\\n",
    "--i-alignment aligned-rep-seqs.qza \\\n",
    "--o-masked-alignment masked-aligned-rep-seqs.qza"
   ]
  },
  {
   "cell_type": "code",
   "execution_count": 6,
   "metadata": {},
   "outputs": [
    {
     "name": "stdout",
     "output_type": "stream",
     "text": [
      "\u001b[32mSaved Phylogeny[Unrooted] to: unrooted-tree.qza\u001b[0m\r\n"
     ]
    }
   ],
   "source": [
    "# 4.3 create an unrooted tree (masked-aligned-rep-seqs.qza -> unrooted-tree.qza)\n",
    "!qiime phylogeny fasttree \\\n",
    "--i-alignment masked-aligned-rep-seqs.qza \\\n",
    "--o-tree unrooted-tree"
   ]
  },
  {
   "cell_type": "code",
   "execution_count": 7,
   "metadata": {},
   "outputs": [
    {
     "name": "stdout",
     "output_type": "stream",
     "text": [
      "\u001b[32mSaved Phylogeny[Rooted] to: rooted-tree.qza\u001b[0m\r\n"
     ]
    }
   ],
   "source": [
    "# 4.4 create a rooted tree from unrooted tree (unrooted-tree.qza -> rooted-tree.qza)\n",
    "!qiime phylogeny midpoint-root \\\n",
    "--i-tree unrooted-tree.qza \\\n",
    "--o-rooted-tree rooted-tree"
   ]
  },
  {
   "cell_type": "markdown",
   "metadata": {},
   "source": [
    "## 5. Diversity Analysis"
   ]
  },
  {
   "cell_type": "markdown",
   "metadata": {},
   "source": [
    "Alpha and beta diversity analysis using data from the following files\n",
    "- zooplankton1MetaData.qza\n",
    "- table.qza\n",
    "- rooted-tree.qza"
   ]
  },
  {
   "cell_type": "code",
   "execution_count": 14,
   "metadata": {},
   "outputs": [
    {
     "name": "stdout",
     "output_type": "stream",
     "text": [
      "\u001b[32mSaved FeatureTable[Frequency] to: core-metrics-results/rarefied_table.qza\u001b[0m\n",
      "\u001b[32mSaved SampleData[AlphaDiversity] to: core-metrics-results/faith_pd_vector.qza\u001b[0m\n",
      "\u001b[32mSaved SampleData[AlphaDiversity] to: core-metrics-results/observed_features_vector.qza\u001b[0m\n",
      "\u001b[32mSaved SampleData[AlphaDiversity] to: core-metrics-results/shannon_vector.qza\u001b[0m\n",
      "\u001b[32mSaved SampleData[AlphaDiversity] to: core-metrics-results/evenness_vector.qza\u001b[0m\n",
      "\u001b[32mSaved DistanceMatrix to: core-metrics-results/unweighted_unifrac_distance_matrix.qza\u001b[0m\n",
      "\u001b[32mSaved DistanceMatrix to: core-metrics-results/weighted_unifrac_distance_matrix.qza\u001b[0m\n",
      "\u001b[32mSaved DistanceMatrix to: core-metrics-results/jaccard_distance_matrix.qza\u001b[0m\n",
      "\u001b[32mSaved DistanceMatrix to: core-metrics-results/bray_curtis_distance_matrix.qza\u001b[0m\n",
      "\u001b[32mSaved PCoAResults to: core-metrics-results/unweighted_unifrac_pcoa_results.qza\u001b[0m\n",
      "\u001b[32mSaved PCoAResults to: core-metrics-results/weighted_unifrac_pcoa_results.qza\u001b[0m\n",
      "\u001b[32mSaved PCoAResults to: core-metrics-results/jaccard_pcoa_results.qza\u001b[0m\n",
      "\u001b[32mSaved PCoAResults to: core-metrics-results/bray_curtis_pcoa_results.qza\u001b[0m\n",
      "\u001b[32mSaved Visualization to: core-metrics-results/unweighted_unifrac_emperor.qzv\u001b[0m\n",
      "\u001b[32mSaved Visualization to: core-metrics-results/weighted_unifrac_emperor.qzv\u001b[0m\n",
      "\u001b[32mSaved Visualization to: core-metrics-results/jaccard_emperor.qzv\u001b[0m\n",
      "\u001b[32mSaved Visualization to: core-metrics-results/bray_curtis_emperor.qzv\u001b[0m\n"
     ]
    }
   ],
   "source": [
    "# perform diversity analysis and save analysis output files (qza and qzv in core-metrics-results)\n",
    "!qiime diversity core-metrics-phylogenetic \\\n",
    "--i-phylogeny rooted-tree.qza \\\n",
    "--i-table table.qza \\\n",
    "--p-sampling-depth 20000 \\\n",
    "--m-metadata-file zooplankton1MetaData.tsv \\\n",
    "--output-dir core-metrics-results"
   ]
  },
  {
   "cell_type": "code",
   "execution_count": 15,
   "metadata": {},
   "outputs": [
    {
     "name": "stdout",
     "output_type": "stream",
     "text": [
      "\u001b[32mSaved Visualization to: core-metrics-results/faith-pd-group-significance.qzv\u001b[0m\r\n"
     ]
    }
   ],
   "source": [
    "# Look at alpha diversity\n",
    "!qiime diversity alpha-group-significance \\\n",
    "--i-alpha-diversity core-metrics-results/faith_pd_vector.qza \\\n",
    "--m-metadata-file zooplankton1MetaData.tsv \\\n",
    "--o-visualization core-metrics-results/faith-pd-group-significance"
   ]
  },
  {
   "cell_type": "code",
   "execution_count": 16,
   "metadata": {},
   "outputs": [
    {
     "name": "stdout",
     "output_type": "stream",
     "text": [
      "Press the 'q' key, Control-C, or Control-D to quit. This view may no longer be accessible or work correctly after quitting.\n",
      "Press the 'q' key, Control-C, or Control-D to quit. This view may no longer be accessible or work correctly after quitting."
     ]
    }
   ],
   "source": [
    "# look at a boxplot of alpha diversity\n",
    "!qiime tools view core-metrics-results/faith-pd-group-significance.qzv"
   ]
  },
  {
   "cell_type": "code",
   "execution_count": 17,
   "metadata": {},
   "outputs": [
    {
     "name": "stdout",
     "output_type": "stream",
     "text": [
      "Press the 'q' key, Control-C, or Control-D to quit. This view may no longer be accessible or work correctly after quitting.\n",
      "Press the 'q' key, Control-C, or Control-D to quit. This view may no longer be accessible or work correctly after quitting."
     ]
    }
   ],
   "source": [
    "# look at beta diveristy (emperor plot 3D)\n",
    "!qiime tools view core-metrics-results/unweighted_unifrac_emperor.qzv"
   ]
  },
  {
   "cell_type": "code",
   "execution_count": 18,
   "metadata": {},
   "outputs": [
    {
     "name": "stdout",
     "output_type": "stream",
     "text": [
      "\u001b[32mSaved Visualization to: alpha-rarefaction.qzv\u001b[0m\r\n"
     ]
    }
   ],
   "source": [
    "# alpha rarefaction plots\n",
    "!qiime diversity alpha-rarefaction \\\n",
    "--i-table core-metrics-results/rarefied_table.qza \\\n",
    "--p-max-depth 20000 \\\n",
    "--m-metadata-file zooplankton1MetaData.tsv \\\n",
    "--p-steps 25 \\\n",
    "--o-visualization alpha-rarefaction"
   ]
  },
  {
   "cell_type": "code",
   "execution_count": 19,
   "metadata": {},
   "outputs": [
    {
     "name": "stdout",
     "output_type": "stream",
     "text": [
      "Press the 'q' key, Control-C, or Control-D to quit. This view may no longer be accessible or work correctly after quitting.\n",
      "Press the 'q' key, Control-C, or Control-D to quit. This view may no longer be accessible or work correctly after quitting."
     ]
    }
   ],
   "source": [
    "# visualing alpha rarefaction plots\n",
    "!qiime tools view alpha-rarefaction.qzv"
   ]
  },
  {
   "cell_type": "markdown",
   "metadata": {},
   "source": [
    "## 6. Taxonomic Assignment "
   ]
  },
  {
   "cell_type": "code",
   "execution_count": null,
   "metadata": {},
   "outputs": [],
   "source": [
    "Use pre-trained classifier to assignt taxonomy to each represetative sequence of our data. "
   ]
  },
  {
   "cell_type": "code",
   "execution_count": 20,
   "metadata": {},
   "outputs": [
    {
     "name": "stdout",
     "output_type": "stream",
     "text": [
      "\u001b[32mSaved FeatureData[Taxonomy] to: taxonomy.qza\u001b[0m\r\n"
     ]
    }
   ],
   "source": [
    "# use classifer to classify representative sequence --> make taxonomy.qza file\n",
    "!qiime feature-classifier classify-sklearn \\\n",
    "--i-classifier gg-13-8-99-nb-classifier.qza \\\n",
    "--i-reads rep-seqs.qza \\\n",
    "--o-classification taxonomy"
   ]
  },
  {
   "cell_type": "code",
   "execution_count": 22,
   "metadata": {},
   "outputs": [
    {
     "name": "stdout",
     "output_type": "stream",
     "text": [
      "\u001b[32mSaved Visualization to: taxa-bar-plots.qzv\u001b[0m\r\n"
     ]
    }
   ],
   "source": [
    "# create taxnomic barplot\n",
    "!qiime taxa barplot \\\n",
    "--i-table table.qza \\\n",
    "--i-taxonomy taxonomy.qza \\\n",
    "--m-metadata-file zooplankton1MetaData.tsv \\\n",
    "--o-visualization taxa-bar-plots"
   ]
  },
  {
   "cell_type": "code",
   "execution_count": 24,
   "metadata": {},
   "outputs": [
    {
     "name": "stdout",
     "output_type": "stream",
     "text": [
      "Press the 'q' key, Control-C, or Control-D to quit. This view may no longer be accessible or work correctly after quitting.\n",
      "Press the 'q' key, Control-C, or Control-D to quit. This view may no longer be accessible or work correctly after quitting."
     ]
    }
   ],
   "source": [
    "# visualising taxonomic barbplot\n",
    "!qiime tools view taxa-bar-plots.qzv"
   ]
  },
  {
   "cell_type": "markdown",
   "metadata": {},
   "source": [
    "## 7. Export QIIME2 artifacts"
   ]
  },
  {
   "cell_type": "markdown",
   "metadata": {},
   "source": [
    "Export feature-table, taxonomic table and phylogenetic tree from .qza format to \n",
    ".biom, .tsv and .nwk formats which could be used by other programs outside QIIME2 (such as R)"
   ]
  },
  {
   "cell_type": "code",
   "execution_count": 25,
   "metadata": {},
   "outputs": [
    {
     "name": "stdout",
     "output_type": "stream",
     "text": [
      "\u001b[32mExported table.qza as BIOMV210DirFmt to directory exportFile\u001b[0m\r\n"
     ]
    }
   ],
   "source": [
    "# export feature-table to .biom file \n",
    "!qiime tools export \\\n",
    "--input-path table.qza \\\n",
    "--output-path exportFile"
   ]
  },
  {
   "cell_type": "code",
   "execution_count": 26,
   "metadata": {},
   "outputs": [
    {
     "name": "stdout",
     "output_type": "stream",
     "text": [
      "\u001b[32mExported taxonomy.qza as TSVTaxonomyDirectoryFormat to directory exportFile\u001b[0m\r\n"
     ]
    }
   ],
   "source": [
    "# export taxonomic table to .tsv file\n",
    "!qiime tools export \\\n",
    "--input-path taxonomy.qza \\\n",
    "--output-path exportFile"
   ]
  },
  {
   "cell_type": "code",
   "execution_count": 27,
   "metadata": {},
   "outputs": [
    {
     "name": "stdout",
     "output_type": "stream",
     "text": [
      "\u001b[32mExported rooted-tree.qza as NewickDirectoryFormat to directory exportFile\u001b[0m\r\n"
     ]
    }
   ],
   "source": [
    "# export phylogenetic tree to .nwk file\n",
    "!qiime tools export \\\n",
    "--input-path rooted-tree.qza \\\n",
    "--output-path exportFile"
   ]
  },
  {
   "cell_type": "code",
   "execution_count": null,
   "metadata": {},
   "outputs": [],
   "source": []
  }
 ],
 "metadata": {
  "kernelspec": {
   "display_name": "Python 3",
   "language": "python",
   "name": "python3"
  },
  "language_info": {
   "codemirror_mode": {
    "name": "ipython",
    "version": 3
   },
   "file_extension": ".py",
   "mimetype": "text/x-python",
   "name": "python",
   "nbconvert_exporter": "python",
   "pygments_lexer": "ipython3",
   "version": "3.6.10"
  }
 },
 "nbformat": 4,
 "nbformat_minor": 4
}
